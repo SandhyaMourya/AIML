{
 "cells": [
  {
   "cell_type": "markdown",
   "metadata": {},
   "source": [
    "# A. Applied Statistics"
   ]
  },
  {
   "cell_type": "markdown",
   "metadata": {},
   "source": [
    "Ex1. Calcuate Mean,Mode and Median of Stats.xlsx file "
   ]
  },
  {
   "cell_type": "code",
   "execution_count": 2,
   "metadata": {},
   "outputs": [],
   "source": [
    "import numpy as np\n",
    "import pandas as pd\n",
    "from scipy import stats "
   ]
  },
  {
   "cell_type": "code",
   "execution_count": 3,
   "metadata": {},
   "outputs": [
    {
     "name": "stdout",
     "output_type": "stream",
     "text": [
      "    Emp#  YearsOfExp  Salary in Rs.\n",
      "0      1          10         126015\n",
      "1      2           1          12598\n",
      "2      3           8         100639\n",
      "3      4          10         125351\n",
      "4      5           2          25031\n",
      "5      6           5          62630\n",
      "6      7           9         112620\n",
      "7      8           8         100639\n",
      "8      9           4          50145\n",
      "9     10           2          25232\n",
      "10    11           9         112770\n",
      "11    12           3          37512\n",
      "12    13           4          50274\n",
      "13    14           5          62768\n",
      "14    15          10         125363\n",
      "15    16           2          25226\n",
      "16    17           6          75392\n",
      "17    18           7          87779\n",
      "18    19           7          87654\n",
      "19    20           3          37592\n",
      "20    21          10         125186\n",
      "21    22           2          25187\n",
      "22    23           9         113309\n",
      "23    24           9         113112\n",
      "24    25          10         125506\n"
     ]
    }
   ],
   "source": [
    "df=pd.read_excel('Stats.xlsx')\n",
    "print(df)"
   ]
  },
  {
   "cell_type": "code",
   "execution_count": 4,
   "metadata": {},
   "outputs": [
    {
     "data": {
      "text/plain": [
       "Emp#                13.0\n",
       "YearsOfExp           6.2\n",
       "Salary in Rs.    77821.2\n",
       "dtype: float64"
      ]
     },
     "execution_count": 4,
     "metadata": {},
     "output_type": "execute_result"
    }
   ],
   "source": [
    "df.mean()"
   ]
  },
  {
   "cell_type": "code",
   "execution_count": 5,
   "metadata": {},
   "outputs": [
    {
     "data": {
      "text/plain": [
       "ModeResult(mode=array([[     1,     10, 100639]], dtype=int64), count=array([[1, 5, 2]]))"
      ]
     },
     "execution_count": 5,
     "metadata": {},
     "output_type": "execute_result"
    }
   ],
   "source": [
    "stats.mode(df)"
   ]
  },
  {
   "cell_type": "code",
   "execution_count": 6,
   "metadata": {},
   "outputs": [
    {
     "data": {
      "text/plain": [
       "Emp#                13.0\n",
       "YearsOfExp           7.0\n",
       "Salary in Rs.    87654.0\n",
       "dtype: float64"
      ]
     },
     "execution_count": 6,
     "metadata": {},
     "output_type": "execute_result"
    }
   ],
   "source": [
    "df.median()"
   ]
  },
  {
   "cell_type": "markdown",
   "metadata": {},
   "source": [
    "Ex2. Calculate Standard deviation and verience of Stats.xlsx"
   ]
  },
  {
   "cell_type": "code",
   "execution_count": 7,
   "metadata": {},
   "outputs": [
    {
     "data": {
      "text/plain": [
       "Emp#                 7.211103\n",
       "YearsOfExp           3.111270\n",
       "Salary in Rs.    39042.529962\n",
       "dtype: float64"
      ]
     },
     "execution_count": 7,
     "metadata": {},
     "output_type": "execute_result"
    }
   ],
   "source": [
    "np.std(df)"
   ]
  },
  {
   "cell_type": "code",
   "execution_count": 8,
   "metadata": {},
   "outputs": [
    {
     "data": {
      "text/plain": [
       "Emp#             5.200000e+01\n",
       "YearsOfExp       9.680000e+00\n",
       "Salary in Rs.    1.524319e+09\n",
       "dtype: float64"
      ]
     },
     "execution_count": 8,
     "metadata": {},
     "output_type": "execute_result"
    }
   ],
   "source": [
    "np.var(df)"
   ]
  },
  {
   "cell_type": "markdown",
   "metadata": {},
   "source": [
    "# (B). Natural Language Processing"
   ]
  },
  {
   "cell_type": "markdown",
   "metadata": {},
   "source": [
    "1. Write a python script that reads the data_in.csv from every cell in column \n",
    "labeled as comment and perform sentence tokenization and redirects in to \n",
    "column of data_out.csv. Perform the NE Chunking on these sentences."
   ]
  },
  {
   "cell_type": "code",
   "execution_count": 294,
   "metadata": {},
   "outputs": [],
   "source": [
    "import nltk as nlp\n",
    "import pandas as pd\n",
    "from nltk.tag import pos_tag\n",
    "from nltk.chunk import ne_chunk"
   ]
  },
  {
   "cell_type": "code",
   "execution_count": 295,
   "metadata": {},
   "outputs": [
    {
     "name": "stdout",
     "output_type": "stream",
     "text": [
      "                                             Comment\n",
      "0  \"Hello there, how are you? Weather is awesome....\n",
      "1  \"Hello Mr. Raja, how are you? Weather is aweso...\n",
      "2  \"Hello Mr. Raja, how are you. Weather is bad. ...\n",
      "3  \"NLP is great technique. It is nice to learn t...\n",
      "4  \"AI is making difference in this world now.  I...\n"
     ]
    }
   ],
   "source": [
    "df=pd.read_excel(\"Data_in.xlsm\")\n",
    "print(df)"
   ]
  },
  {
   "cell_type": "code",
   "execution_count": 296,
   "metadata": {},
   "outputs": [
    {
     "data": {
      "text/html": [
       "<div>\n",
       "<style scoped>\n",
       "    .dataframe tbody tr th:only-of-type {\n",
       "        vertical-align: middle;\n",
       "    }\n",
       "\n",
       "    .dataframe tbody tr th {\n",
       "        vertical-align: top;\n",
       "    }\n",
       "\n",
       "    .dataframe thead th {\n",
       "        text-align: right;\n",
       "    }\n",
       "</style>\n",
       "<table border=\"1\" class=\"dataframe\">\n",
       "  <thead>\n",
       "    <tr style=\"text-align: right;\">\n",
       "      <th></th>\n",
       "      <th>0</th>\n",
       "      <th>1</th>\n",
       "      <th>2</th>\n",
       "    </tr>\n",
       "  </thead>\n",
       "  <tbody>\n",
       "    <tr>\n",
       "      <th>0</th>\n",
       "      <td>\"Hello there, how are you?</td>\n",
       "      <td>Weather is awesome.</td>\n",
       "      <td>Its raining here now.\"</td>\n",
       "    </tr>\n",
       "    <tr>\n",
       "      <th>1</th>\n",
       "      <td>\"Hello Mr. Raja, how are you?</td>\n",
       "      <td>Weather is awesome.</td>\n",
       "      <td>Its raining here now.\"</td>\n",
       "    </tr>\n",
       "    <tr>\n",
       "      <th>2</th>\n",
       "      <td>\"Hello Mr. Raja, how are you.</td>\n",
       "      <td>Weather is bad.</td>\n",
       "      <td>Its heavily raining here now.\"</td>\n",
       "    </tr>\n",
       "    <tr>\n",
       "      <th>3</th>\n",
       "      <td>\"NLP is great technique.</td>\n",
       "      <td>It is nice to learn this technique.\"</td>\n",
       "      <td>None</td>\n",
       "    </tr>\n",
       "    <tr>\n",
       "      <th>4</th>\n",
       "      <td>\"AI is making difference in this world now.</td>\n",
       "      <td>It would be helpful for betterment of human life.</td>\n",
       "      <td>We need to make advantage of that.\"</td>\n",
       "    </tr>\n",
       "  </tbody>\n",
       "</table>\n",
       "</div>"
      ],
      "text/plain": [
       "                                             0  \\\n",
       "0                   \"Hello there, how are you?   \n",
       "1                \"Hello Mr. Raja, how are you?   \n",
       "2                \"Hello Mr. Raja, how are you.   \n",
       "3                     \"NLP is great technique.   \n",
       "4  \"AI is making difference in this world now.   \n",
       "\n",
       "                                                   1  \\\n",
       "0                                Weather is awesome.   \n",
       "1                                Weather is awesome.   \n",
       "2                                    Weather is bad.   \n",
       "3               It is nice to learn this technique.\"   \n",
       "4  It would be helpful for betterment of human life.   \n",
       "\n",
       "                                     2  \n",
       "0               Its raining here now.\"  \n",
       "1               Its raining here now.\"  \n",
       "2       Its heavily raining here now.\"  \n",
       "3                                 None  \n",
       "4  We need to make advantage of that.\"  "
      ]
     },
     "execution_count": 296,
     "metadata": {},
     "output_type": "execute_result"
    }
   ],
   "source": [
    "Data_Sent=[]\n",
    "for i in range(len(df)):\n",
    "    Data_Sent.append(nlp.sent_tokenize(df[\"Comment\"][i]))\n",
    "Out_df=pd.DataFrame(Data_Sent)\n",
    "Out_df"
   ]
  },
  {
   "cell_type": "code",
   "execution_count": 297,
   "metadata": {},
   "outputs": [],
   "source": [
    "Out_df.to_csv(r\"Data_out_sent.csv\",index=False) # Saving the output of Sentence tonkenize to data_out.csv file"
   ]
  },
  {
   "cell_type": "code",
   "execution_count": 298,
   "metadata": {},
   "outputs": [],
   "source": [
    "#ne CHUNK"
   ]
  },
  {
   "cell_type": "code",
   "execution_count": 299,
   "metadata": {},
   "outputs": [
    {
     "name": "stdout",
     "output_type": "stream",
     "text": [
      "[Tree('S', [('\"Hello there, how are you?', 'JJ'), ('Weather is awesome.', 'NNP'), ('Its raining here now.\"', 'NNP')]), Tree('S', [('\"Hello Mr. Raja, how are you?', 'JJ'), ('Weather is awesome.', 'NNP'), ('Its raining here now.\"', 'NNP')]), Tree('S', [('\"Hello Mr. Raja, how are you.', 'JJ'), ('Weather is bad.', 'NNP'), ('Its heavily raining here now.\"', 'NNP')]), Tree('S', [('\"NLP is great technique.', 'NN'), ('It is nice to learn this technique.\"', 'NNP')]), Tree('S', [('\"AI is making difference in this world now.', 'JJ'), ('It would be helpful for betterment of human life.', 'NNP'), ('We need to make advantage of that.\"', 'NNP')])]\n"
     ]
    }
   ],
   "source": [
    "#chunk.ne_chunk(nlp.word_tokenize(Out_df[0][1]))\n",
    "\n",
    "#Chunking\n",
    "chunk=[]\n",
    "for i in range(5):\n",
    "    chunk.append(ne_chunk(pos_tag(nlp.sent_tokenize(df[\"Comment\"][i]))))\n",
    "print(chunk)\n"
   ]
  },
  {
   "cell_type": "markdown",
   "metadata": {},
   "source": [
    " 2.Write a python script that reads the data_in.csv from every cell in column \n",
    "labeled as comment and perform word tokenization and redirects in to column of \n",
    "data_out.csv"
   ]
  },
  {
   "cell_type": "code",
   "execution_count": 303,
   "metadata": {},
   "outputs": [
    {
     "name": "stdout",
     "output_type": "stream",
     "text": [
      "[['``', 'Hello', 'there', ',', 'how', 'are', 'you', '?', 'Weather', 'is', 'awesome', '.', 'Its', 'raining', 'here', 'now', '.', \"''\"], ['``', 'Hello', 'Mr.', 'Raja', ',', 'how', 'are', 'you', '?', 'Weather', 'is', 'awesome', '.', 'Its', 'raining', 'here', 'now', '.', \"''\"], ['``', 'Hello', 'Mr.', 'Raja', ',', 'how', 'are', 'you', '.', 'Weather', 'is', 'bad', '.', 'Its', 'heavily', 'raining', 'here', 'now', '.', \"''\"], ['``', 'NLP', 'is', 'great', 'technique', '.', 'It', 'is', 'nice', 'to', 'learn', 'this', 'technique', '.', \"''\"], ['``', 'AI', 'is', 'making', 'difference', 'in', 'this', 'world', 'now', '.', 'It', 'would', 'be', 'helpful', 'for', 'betterment', 'of', 'human', 'life', '.', 'We', 'need', 'to', 'make', 'advantage', 'of', 'that', '.', \"''\"]]\n"
     ]
    }
   ],
   "source": [
    "Data_word=[]\n",
    "for i in range(len(df)):\n",
    "    Data_word.append(nlp.word_tokenize(df[\"Comment\"][i]))\n",
    "print(Data_word)"
   ]
  },
  {
   "cell_type": "code",
   "execution_count": 304,
   "metadata": {},
   "outputs": [],
   "source": [
    "Out_word_df=pd.DataFrame(Data_word)"
   ]
  },
  {
   "cell_type": "code",
   "execution_count": 305,
   "metadata": {},
   "outputs": [],
   "source": [
    "Out_word_df.to_csv(r\"Data_out_word.csv\",index=False)"
   ]
  },
  {
   "cell_type": "markdown",
   "metadata": {},
   "source": [
    "3. From an input file data.txt it is required to identify the POS-Tagging and \n",
    "display it on tree structure"
   ]
  },
  {
   "cell_type": "code",
   "execution_count": 19,
   "metadata": {},
   "outputs": [],
   "source": [
    "Data_pos_df=pd.read_table(\"NLPdataEx3&4-data_in.txt\",header=None)"
   ]
  },
  {
   "cell_type": "code",
   "execution_count": 20,
   "metadata": {},
   "outputs": [
    {
     "data": {
      "text/html": [
       "<div>\n",
       "<style scoped>\n",
       "    .dataframe tbody tr th:only-of-type {\n",
       "        vertical-align: middle;\n",
       "    }\n",
       "\n",
       "    .dataframe tbody tr th {\n",
       "        vertical-align: top;\n",
       "    }\n",
       "\n",
       "    .dataframe thead th {\n",
       "        text-align: right;\n",
       "    }\n",
       "</style>\n",
       "<table border=\"1\" class=\"dataframe\">\n",
       "  <thead>\n",
       "    <tr style=\"text-align: right;\">\n",
       "      <th></th>\n",
       "      <th>0</th>\n",
       "    </tr>\n",
       "  </thead>\n",
       "  <tbody>\n",
       "    <tr>\n",
       "      <th>0</th>\n",
       "      <td>Hello there, how are you? Weather is awesome. ...</td>\n",
       "    </tr>\n",
       "    <tr>\n",
       "      <th>1</th>\n",
       "      <td>Hello Mr. Raja, how are you? Weather is awesom...</td>\n",
       "    </tr>\n",
       "    <tr>\n",
       "      <th>2</th>\n",
       "      <td>Hello Mr. Raja, how are you. Weather is bad. I...</td>\n",
       "    </tr>\n",
       "    <tr>\n",
       "      <th>3</th>\n",
       "      <td>NLP is great technique. It is nice to learn th...</td>\n",
       "    </tr>\n",
       "    <tr>\n",
       "      <th>4</th>\n",
       "      <td>AI is making difference in this world now.  It...</td>\n",
       "    </tr>\n",
       "  </tbody>\n",
       "</table>\n",
       "</div>"
      ],
      "text/plain": [
       "                                                   0\n",
       "0  Hello there, how are you? Weather is awesome. ...\n",
       "1  Hello Mr. Raja, how are you? Weather is awesom...\n",
       "2  Hello Mr. Raja, how are you. Weather is bad. I...\n",
       "3  NLP is great technique. It is nice to learn th...\n",
       "4  AI is making difference in this world now.  It..."
      ]
     },
     "execution_count": 20,
     "metadata": {},
     "output_type": "execute_result"
    }
   ],
   "source": [
    "Data_pos_df"
   ]
  },
  {
   "cell_type": "markdown",
   "metadata": {},
   "source": [
    "#perform POS tagging on textfile"
   ]
  },
  {
   "cell_type": "code",
   "execution_count": 21,
   "metadata": {},
   "outputs": [
    {
     "name": "stdout",
     "output_type": "stream",
     "text": [
      "[['``', 'Hello', 'there', ',', 'how', 'are', 'you', '?', 'Weather', 'is', 'awesome', '.', 'Its', 'raining', 'here', 'now', '.', \"''\"], ['``', 'Hello', 'Mr.', 'Raja', ',', 'how', 'are', 'you', '?', 'Weather', 'is', 'awesome', '.', 'Its', 'raining', 'here', 'now', '.', \"''\"], ['``', 'Hello', 'Mr.', 'Raja', ',', 'how', 'are', 'you', '.', 'Weather', 'is', 'bad', '.', 'Its', 'heavily', 'raining', 'here', 'now', '.', \"''\"], ['``', 'NLP', 'is', 'great', 'technique', '.', 'It', 'is', 'nice', 'to', 'learn', 'this', 'technique', '.', \"''\"], ['``', 'AI', 'is', 'making', 'difference', 'in', 'this', 'world', 'now', '.', 'It', 'would', 'be', 'helpful', 'for', 'betterment', 'of', 'human', 'life', '.', 'We', 'need', 'to', 'make', 'advantage', 'of', 'that', '.', \"''\"], [('Hello', 'NNP'), ('there', 'RB'), (',', ','), ('how', 'WRB'), ('are', 'VBP'), ('you', 'PRP'), ('?', '.'), ('Weather', \"''\"), ('is', 'VBZ'), ('awesome', 'JJ'), ('.', '.'), ('Its', 'PRP$'), ('raining', 'VBG'), ('here', 'RB'), ('now', 'RB'), ('.', '.')], [('Hello', 'NNP'), ('Mr.', 'NNP'), ('Raja', 'NNP'), (',', ','), ('how', 'WRB'), ('are', 'VBP'), ('you', 'PRP'), ('?', '.'), ('Weather', \"''\"), ('is', 'VBZ'), ('awesome', 'JJ'), ('.', '.'), ('Its', 'PRP$'), ('raining', 'VBG'), ('here', 'RB'), ('now', 'RB'), ('.', '.')], [('Hello', 'NNP'), ('Mr.', 'NNP'), ('Raja', 'NNP'), (',', ','), ('how', 'WRB'), ('are', 'VBP'), ('you', 'PRP'), ('.', '.'), ('Weather', 'CC'), ('is', 'VBZ'), ('bad', 'JJ'), ('.', '.'), ('Its', 'PRP$'), ('heavily', 'RB'), ('raining', 'VBG'), ('here', 'RB'), ('now', 'RB'), ('.', '.')], [('NLP', 'NNP'), ('is', 'VBZ'), ('great', 'JJ'), ('technique', 'NN'), ('.', '.'), ('It', 'PRP'), ('is', 'VBZ'), ('nice', 'JJ'), ('to', 'TO'), ('learn', 'VB'), ('this', 'DT'), ('technique', 'NN'), ('.', '.')], [('AI', 'NNP'), ('is', 'VBZ'), ('making', 'VBG'), ('difference', 'NN'), ('in', 'IN'), ('this', 'DT'), ('world', 'NN'), ('now', 'RB'), ('.', '.'), ('It', 'PRP'), ('would', 'MD'), ('be', 'VB'), ('helpful', 'JJ'), ('for', 'IN'), ('betterment', 'NN'), ('of', 'IN'), ('human', 'JJ'), ('life', 'NN'), ('.', '.'), ('We', 'PRP'), ('need', 'VBP'), ('to', 'TO'), ('make', 'VB'), ('advantage', 'NN'), ('of', 'IN'), ('that', 'DT'), ('.', '.')]]\n"
     ]
    }
   ],
   "source": [
    "#nlp.download('averaged_perceptron_tagger')\n",
    "for i in range(len(Data_pos_df)):\n",
    "    Data_word.append(nlp.pos_tag(nlp.word_tokenize(Data_pos_df[0][i])))\n",
    "print(Data_word)"
   ]
  },
  {
   "cell_type": "markdown",
   "metadata": {},
   "source": [
    "#chunking the read textfile"
   ]
  },
  {
   "cell_type": "code",
   "execution_count": 22,
   "metadata": {},
   "outputs": [
    {
     "name": "stderr",
     "output_type": "stream",
     "text": [
      "[nltk_data] Downloading package words to C:\\Users\\sandhya\n",
      "[nltk_data]     mourya\\AppData\\Roaming\\nltk_data...\n",
      "[nltk_data]   Package words is already up-to-date!\n"
     ]
    },
    {
     "name": "stdout",
     "output_type": "stream",
     "text": [
      "(S\n",
      "  (GPE Hello/NNP)\n",
      "  there/RB\n",
      "  ,/,\n",
      "  how/WRB\n",
      "  are/VBP\n",
      "  you/PRP\n",
      "  ?/.\n",
      "  Weather/''\n",
      "  is/VBZ\n",
      "  awesome/JJ\n",
      "  ./.\n",
      "  Its/PRP$\n",
      "  raining/VBG\n",
      "  here/RB\n",
      "  now/RB\n",
      "  ./.)\n"
     ]
    }
   ],
   "source": [
    "nlp.download('words')\n",
    "a=chunk.ne_chunk(nlp.pos_tag(nlp.word_tokenize(Data_pos_df[0][0])))\n",
    "print(a)"
   ]
  },
  {
   "cell_type": "code",
   "execution_count": 25,
   "metadata": {},
   "outputs": [],
   "source": [
    "a.draw()"
   ]
  },
  {
   "cell_type": "markdown",
   "metadata": {},
   "source": [
    " 4. For a given text file exclude the stop words and perform the Stemming & \n",
    "    lemmatization and compare the results. \n"
   ]
  },
  {
   "cell_type": "code",
   "execution_count": 306,
   "metadata": {},
   "outputs": [],
   "source": [
    "from nltk.stem import PorterStemmer\n",
    "from nltk.stem import WordNetLemmatizer"
   ]
  },
  {
   "cell_type": "code",
   "execution_count": 307,
   "metadata": {},
   "outputs": [],
   "source": [
    "stemming=PorterStemmer()\n",
    "lemmatizer = WordNetLemmatizer()"
   ]
  },
  {
   "cell_type": "code",
   "execution_count": 308,
   "metadata": {},
   "outputs": [
    {
     "name": "stdout",
     "output_type": "stream",
     "text": [
      "[\"['hello', 'there', ',', 'how', 'are', 'you', '?', 'weather', 'is', 'awesome', '.', 'its', 'raining', 'here', 'now', '.']\", \"['hello', 'mr.', 'raja', ',', 'how', 'are', 'you', '?', 'weather', 'is', 'awesome', '.', 'its', 'raining', 'here', 'now', '.']\", \"['hello', 'mr.', 'raja', ',', 'how', 'are', 'you', '.', 'weather', 'is', 'bad', '.', 'its', 'heavily', 'raining', 'here', 'now', '.']\", \"['nlp', 'is', 'great', 'technique', '.', 'it', 'is', 'nice', 'to', 'learn', 'this', 'technique', '.']\", \"['ai', 'is', 'making', 'difference', 'in', 'this', 'world', 'now', '.', 'it', 'would', 'be', 'helpful', 'for', 'betterment', 'of', 'human', 'life', '.', 'we', 'need', 'to', 'make', 'advantage', 'of', 'that', '.']\"]\n"
     ]
    }
   ],
   "source": [
    "stemmed_word=[]\n",
    "for i in range(len(Data_pos_df)):\n",
    "    stemmed_word.append(stemming.stem(str(nlp.word_tokenize(Data_pos_df[0][i]))))\n",
    "print(stemmed_word)"
   ]
  },
  {
   "cell_type": "code",
   "execution_count": 309,
   "metadata": {},
   "outputs": [
    {
     "name": "stderr",
     "output_type": "stream",
     "text": [
      "[nltk_data] Downloading package wordnet to C:\\Users\\sandhya\n",
      "[nltk_data]     mourya\\AppData\\Roaming\\nltk_data...\n"
     ]
    },
    {
     "name": "stdout",
     "output_type": "stream",
     "text": [
      "[\"['Hello', 'there', ',', 'how', 'are', 'you', '?', 'Weather', 'is', 'awesome', '.', 'Its', 'raining', 'here', 'now', '.']\", \"['Hello', 'Mr.', 'Raja', ',', 'how', 'are', 'you', '?', 'Weather', 'is', 'awesome', '.', 'Its', 'raining', 'here', 'now', '.']\", \"['Hello', 'Mr.', 'Raja', ',', 'how', 'are', 'you', '.', 'Weather', 'is', 'bad', '.', 'Its', 'heavily', 'raining', 'here', 'now', '.']\", \"['NLP', 'is', 'great', 'technique', '.', 'It', 'is', 'nice', 'to', 'learn', 'this', 'technique', '.']\", \"['AI', 'is', 'making', 'difference', 'in', 'this', 'world', 'now', '.', 'It', 'would', 'be', 'helpful', 'for', 'betterment', 'of', 'human', 'life', '.', 'We', 'need', 'to', 'make', 'advantage', 'of', 'that', '.']\"]\n"
     ]
    },
    {
     "name": "stderr",
     "output_type": "stream",
     "text": [
      "[nltk_data]   Package wordnet is already up-to-date!\n"
     ]
    }
   ],
   "source": [
    "nlp.download('wordnet')\n",
    "lammetize_word=[]\n",
    "for i in range(len(Data_pos_df)):\n",
    "    lammetize_word.append(lemmatizer.lemmatize(str(nlp.word_tokenize(Data_pos_df[0][i]))))\n",
    "print(lammetize_word)"
   ]
  },
  {
   "cell_type": "markdown",
   "metadata": {},
   "source": [
    "5. Create a small dictionary file with required set of words with weightage \n",
    "attached to it with positive and negative numbers. Create a python script that \n",
    "analyzes the given text file and classify it as negative or positive sentiment."
   ]
  },
  {
   "cell_type": "code",
   "execution_count": 319,
   "metadata": {},
   "outputs": [
    {
     "name": "stdout",
     "output_type": "stream",
     "text": [
      "                                          Sentence\n",
      "0                               Rose is beautiful.\n",
      "1                          Place is nasty to stay.\n",
      "2            This is the beauty of this technique.\n",
      "3   Concept is explained beautifully in this book.\n",
      "4                                   He annoyed me.\n",
      "5                   Its the supreme place to stay.\n",
      "6                               I hate this place.\n",
      "7                         Dont annoy the customer.\n",
      "8      He has given nasty comments about his stay.\n",
      "9                              Dessert is awesome.\n",
      "10                         Your gift is wonderful.\n"
     ]
    }
   ],
   "source": [
    "df = pd.read_table(\"NLPdataEx5data_senti_analyze.txt\",header = None)\n",
    "df = df.rename(columns={0:\"Sentence\"})\n",
    "print(df)\n"
   ]
  },
  {
   "cell_type": "code",
   "execution_count": 320,
   "metadata": {},
   "outputs": [
    {
     "name": "stdout",
     "output_type": "stream",
     "text": [
      "{'hate': -1, 'hatred': -1, 'annoyed': -1, 'annoy': -1, 'annoyingly': -1, 'nasty': -1}\n",
      "{'nice': 2, 'excellent': 2, 'good': 2, 'wonderful': 2, 'best': 2, 'better': 2, 'awesome': 2, 'beautiful': 2, 'beauty': 2, 'beautifully': 2, 'supreme': 2}\n"
     ]
    }
   ],
   "source": [
    "x = (\"hate\",\"hatred\",\"annoyed\",\"annoy\",\"annoyingly\",\"nasty\")\n",
    "y = -1\n",
    "neg_words = dict.fromkeys(x, y)\n",
    "x = (\"nice\",\"excellent\",\"good\",\"wonderful\",\"best\",\"better\",\"awesome\",\"beautiful\",\"beauty\",\"beautifully\",\"supreme\")\n",
    "y = 2\n",
    "pos_words = dict.fromkeys(x, y)\n",
    "\n",
    "print(neg_words)\n",
    "print(pos_words)\n"
   ]
  },
  {
   "cell_type": "code",
   "execution_count": 321,
   "metadata": {},
   "outputs": [],
   "source": [
    "df_pos_neg=pd.read_table(\"NLPdataEx5dict.txt\",header=None)"
   ]
  },
  {
   "cell_type": "code",
   "execution_count": 322,
   "metadata": {},
   "outputs": [
    {
     "data": {
      "text/html": [
       "<div>\n",
       "<style scoped>\n",
       "    .dataframe tbody tr th:only-of-type {\n",
       "        vertical-align: middle;\n",
       "    }\n",
       "\n",
       "    .dataframe tbody tr th {\n",
       "        vertical-align: top;\n",
       "    }\n",
       "\n",
       "    .dataframe thead th {\n",
       "        text-align: right;\n",
       "    }\n",
       "</style>\n",
       "<table border=\"1\" class=\"dataframe\">\n",
       "  <thead>\n",
       "    <tr style=\"text-align: right;\">\n",
       "      <th></th>\n",
       "      <th>0</th>\n",
       "    </tr>\n",
       "  </thead>\n",
       "  <tbody>\n",
       "    <tr>\n",
       "      <th>0</th>\n",
       "      <td>neg_words=[\"hate\",\"hatred\",\"annoyed\",\"annoy\",\"...</td>\n",
       "    </tr>\n",
       "    <tr>\n",
       "      <th>1</th>\n",
       "      <td>pos_words=[\"nice\",\"excellent\",\"good\",\"wonderfu...</td>\n",
       "    </tr>\n",
       "  </tbody>\n",
       "</table>\n",
       "</div>"
      ],
      "text/plain": [
       "                                                   0\n",
       "0  neg_words=[\"hate\",\"hatred\",\"annoyed\",\"annoy\",\"...\n",
       "1  pos_words=[\"nice\",\"excellent\",\"good\",\"wonderfu..."
      ]
     },
     "execution_count": 322,
     "metadata": {},
     "output_type": "execute_result"
    }
   ],
   "source": [
    "df_pos_neg"
   ]
  },
  {
   "cell_type": "code",
   "execution_count": 323,
   "metadata": {},
   "outputs": [],
   "source": [
    "positive = list(pos_words.keys())\n",
    "negative = list(neg_words.keys())"
   ]
  },
  {
   "cell_type": "code",
   "execution_count": 330,
   "metadata": {},
   "outputs": [
    {
     "data": {
      "text/plain": [
       "[['Rose', 'is', 'beautiful', '.'],\n",
       " ['Place', 'is', 'nasty', 'to', 'stay', '.'],\n",
       " ['This', 'is', 'the', 'beauty', 'of', 'this', 'technique', '.'],\n",
       " ['Concept', 'is', 'explained', 'beautifully', 'in', 'this', 'book', '.'],\n",
       " ['He', 'annoyed', 'me', '.'],\n",
       " ['Its', 'the', 'supreme', 'place', 'to', 'stay', '.'],\n",
       " ['I', 'hate', 'this', 'place', '.'],\n",
       " ['Dont', 'annoy', 'the', 'customer', '.'],\n",
       " ['He', 'has', 'given', 'nasty', 'comments', 'about', 'his', 'stay', '.'],\n",
       " ['Dessert', 'is', 'awesome', '.'],\n",
       " ['Your', 'gift', 'is', 'wonderful', '.']]"
      ]
     },
     "execution_count": 330,
     "metadata": {},
     "output_type": "execute_result"
    }
   ],
   "source": [
    "weight_sent = []\n",
    "for i in range(len(df)):\n",
    "    weight_sent.append(nlp.word_tokenize(df[\"Sentence\"][i]))\n",
    "weight_sent"
   ]
  },
  {
   "cell_type": "code",
   "execution_count": 331,
   "metadata": {},
   "outputs": [
    {
     "name": "stdout",
     "output_type": "stream",
     "text": [
      "Positive Sentence : Rose is beautiful.\n",
      "Negative Sentence : Place is nasty to stay.\n",
      "Positive Sentence : This is the beauty of this technique.\n",
      "Positive Sentence : Concept is explained beautifully in this book.\n",
      "Negative Sentence : He annoyed me.\n",
      "Positive Sentence : Its the supreme place to stay.\n",
      "Negative Sentence : I hate this place.\n",
      "Negative Sentence : Dont annoy the customer.\n",
      "Negative Sentence : He has given nasty comments about his stay.\n",
      "Positive Sentence : Dessert is awesome.\n",
      "Positive Sentence : Your gift is wonderful.\n"
     ]
    }
   ],
   "source": [
    "for j in range(len(weight_sent)):\n",
    "    weightage =[]\n",
    "    for i in weight_sent[j]:\n",
    "        if i in negative:\n",
    "            weightage.append(neg_words[i])\n",
    "        if i in positive:\n",
    "            weightage.append(pos_words[i])\n",
    "    if sum(weightage) >= 0:\n",
    "        print(\"Positive Sentence :\",df[\"Sentence\"][j])\n",
    "    else:\n",
    "        print(\"Negative Sentence :\",df[\"Sentence\"][j])"
   ]
  },
  {
   "cell_type": "markdown",
   "metadata": {},
   "source": [
    "# Machine Learning\n"
   ]
  },
  {
   "cell_type": "markdown",
   "metadata": {},
   "source": [
    "#  Univariate Linear regression\n",
    "  \n",
    "  "
   ]
  },
  {
   "cell_type": "code",
   "execution_count": 233,
   "metadata": {},
   "outputs": [],
   "source": [
    "import matplotlib.pyplot as plt\n",
    "import pandas as pd\n",
    "import numpy as np\n",
    "import pylab as pl\n",
    "%matplotlib inline\n",
    "from sklearn import linear_model"
   ]
  },
  {
   "cell_type": "code",
   "execution_count": 259,
   "metadata": {},
   "outputs": [
    {
     "data": {
      "text/html": [
       "<div>\n",
       "<style scoped>\n",
       "    .dataframe tbody tr th:only-of-type {\n",
       "        vertical-align: middle;\n",
       "    }\n",
       "\n",
       "    .dataframe tbody tr th {\n",
       "        vertical-align: top;\n",
       "    }\n",
       "\n",
       "    .dataframe thead th {\n",
       "        text-align: right;\n",
       "    }\n",
       "</style>\n",
       "<table border=\"1\" class=\"dataframe\">\n",
       "  <thead>\n",
       "    <tr style=\"text-align: right;\">\n",
       "      <th></th>\n",
       "      <th>mpg</th>\n",
       "      <th>cylinders</th>\n",
       "      <th>displacement</th>\n",
       "      <th>horsepower</th>\n",
       "      <th>weight</th>\n",
       "      <th>acceleration</th>\n",
       "      <th>model year</th>\n",
       "      <th>origin</th>\n",
       "      <th>car name</th>\n",
       "    </tr>\n",
       "  </thead>\n",
       "  <tbody>\n",
       "    <tr>\n",
       "      <th>0</th>\n",
       "      <td>18</td>\n",
       "      <td>8</td>\n",
       "      <td>307.0</td>\n",
       "      <td>130</td>\n",
       "      <td>3504</td>\n",
       "      <td>12.0</td>\n",
       "      <td>70</td>\n",
       "      <td>1</td>\n",
       "      <td>chevrolet chevelle malibu</td>\n",
       "    </tr>\n",
       "    <tr>\n",
       "      <th>1</th>\n",
       "      <td>15</td>\n",
       "      <td>8</td>\n",
       "      <td>350.0</td>\n",
       "      <td>165</td>\n",
       "      <td>3693</td>\n",
       "      <td>11.5</td>\n",
       "      <td>70</td>\n",
       "      <td>1</td>\n",
       "      <td>buick skylark 320</td>\n",
       "    </tr>\n",
       "    <tr>\n",
       "      <th>2</th>\n",
       "      <td>18</td>\n",
       "      <td>8</td>\n",
       "      <td>318.0</td>\n",
       "      <td>150</td>\n",
       "      <td>3436</td>\n",
       "      <td>11.0</td>\n",
       "      <td>70</td>\n",
       "      <td>1</td>\n",
       "      <td>plymouth satellite</td>\n",
       "    </tr>\n",
       "    <tr>\n",
       "      <th>3</th>\n",
       "      <td>16</td>\n",
       "      <td>8</td>\n",
       "      <td>304.0</td>\n",
       "      <td>150</td>\n",
       "      <td>3433</td>\n",
       "      <td>12.0</td>\n",
       "      <td>70</td>\n",
       "      <td>1</td>\n",
       "      <td>amc rebel sst</td>\n",
       "    </tr>\n",
       "    <tr>\n",
       "      <th>4</th>\n",
       "      <td>17</td>\n",
       "      <td>8</td>\n",
       "      <td>302.0</td>\n",
       "      <td>140</td>\n",
       "      <td>3449</td>\n",
       "      <td>10.5</td>\n",
       "      <td>70</td>\n",
       "      <td>1</td>\n",
       "      <td>ford torino</td>\n",
       "    </tr>\n",
       "  </tbody>\n",
       "</table>\n",
       "</div>"
      ],
      "text/plain": [
       "  mpg  cylinders  displacement  horsepower  weight  acceleration  model year  \\\n",
       "0  18          8         307.0         130    3504          12.0          70   \n",
       "1  15          8         350.0         165    3693          11.5          70   \n",
       "2  18          8         318.0         150    3436          11.0          70   \n",
       "3  16          8         304.0         150    3433          12.0          70   \n",
       "4  17          8         302.0         140    3449          10.5          70   \n",
       "\n",
       "   origin                   car name  \n",
       "0       1  chevrolet chevelle malibu  \n",
       "1       1          buick skylark 320  \n",
       "2       1         plymouth satellite  \n",
       "3       1              amc rebel sst  \n",
       "4       1                ford torino  "
      ]
     },
     "execution_count": 259,
     "metadata": {},
     "output_type": "execute_result"
    }
   ],
   "source": [
    "df=pd.read_csv(\"auto-mpg.csv\")\n",
    "df.head()"
   ]
  },
  {
   "cell_type": "code",
   "execution_count": 236,
   "metadata": {},
   "outputs": [
    {
     "data": {
      "text/html": [
       "<div>\n",
       "<style scoped>\n",
       "    .dataframe tbody tr th:only-of-type {\n",
       "        vertical-align: middle;\n",
       "    }\n",
       "\n",
       "    .dataframe tbody tr th {\n",
       "        vertical-align: top;\n",
       "    }\n",
       "\n",
       "    .dataframe thead th {\n",
       "        text-align: right;\n",
       "    }\n",
       "</style>\n",
       "<table border=\"1\" class=\"dataframe\">\n",
       "  <thead>\n",
       "    <tr style=\"text-align: right;\">\n",
       "      <th></th>\n",
       "      <th>cylinders</th>\n",
       "      <th>displacement</th>\n",
       "      <th>horsepower</th>\n",
       "      <th>weight</th>\n",
       "      <th>acceleration</th>\n",
       "      <th>model year</th>\n",
       "      <th>origin</th>\n",
       "    </tr>\n",
       "  </thead>\n",
       "  <tbody>\n",
       "    <tr>\n",
       "      <th>count</th>\n",
       "      <td>392.000000</td>\n",
       "      <td>392.000000</td>\n",
       "      <td>392.000000</td>\n",
       "      <td>392.000000</td>\n",
       "      <td>392.000000</td>\n",
       "      <td>392.000000</td>\n",
       "      <td>392.000000</td>\n",
       "    </tr>\n",
       "    <tr>\n",
       "      <th>mean</th>\n",
       "      <td>5.471939</td>\n",
       "      <td>194.411990</td>\n",
       "      <td>104.469388</td>\n",
       "      <td>2977.584184</td>\n",
       "      <td>15.541327</td>\n",
       "      <td>75.979592</td>\n",
       "      <td>1.576531</td>\n",
       "    </tr>\n",
       "    <tr>\n",
       "      <th>std</th>\n",
       "      <td>1.705783</td>\n",
       "      <td>104.644004</td>\n",
       "      <td>38.491160</td>\n",
       "      <td>849.402560</td>\n",
       "      <td>2.758864</td>\n",
       "      <td>3.683737</td>\n",
       "      <td>0.805518</td>\n",
       "    </tr>\n",
       "    <tr>\n",
       "      <th>min</th>\n",
       "      <td>3.000000</td>\n",
       "      <td>68.000000</td>\n",
       "      <td>46.000000</td>\n",
       "      <td>1613.000000</td>\n",
       "      <td>8.000000</td>\n",
       "      <td>70.000000</td>\n",
       "      <td>1.000000</td>\n",
       "    </tr>\n",
       "    <tr>\n",
       "      <th>25%</th>\n",
       "      <td>4.000000</td>\n",
       "      <td>105.000000</td>\n",
       "      <td>75.000000</td>\n",
       "      <td>2225.250000</td>\n",
       "      <td>13.775000</td>\n",
       "      <td>73.000000</td>\n",
       "      <td>1.000000</td>\n",
       "    </tr>\n",
       "    <tr>\n",
       "      <th>50%</th>\n",
       "      <td>4.000000</td>\n",
       "      <td>151.000000</td>\n",
       "      <td>93.500000</td>\n",
       "      <td>2803.500000</td>\n",
       "      <td>15.500000</td>\n",
       "      <td>76.000000</td>\n",
       "      <td>1.000000</td>\n",
       "    </tr>\n",
       "    <tr>\n",
       "      <th>75%</th>\n",
       "      <td>8.000000</td>\n",
       "      <td>275.750000</td>\n",
       "      <td>126.000000</td>\n",
       "      <td>3614.750000</td>\n",
       "      <td>17.025000</td>\n",
       "      <td>79.000000</td>\n",
       "      <td>2.000000</td>\n",
       "    </tr>\n",
       "    <tr>\n",
       "      <th>max</th>\n",
       "      <td>8.000000</td>\n",
       "      <td>455.000000</td>\n",
       "      <td>230.000000</td>\n",
       "      <td>5140.000000</td>\n",
       "      <td>24.800000</td>\n",
       "      <td>82.000000</td>\n",
       "      <td>3.000000</td>\n",
       "    </tr>\n",
       "  </tbody>\n",
       "</table>\n",
       "</div>"
      ],
      "text/plain": [
       "        cylinders  displacement  horsepower       weight  acceleration  \\\n",
       "count  392.000000    392.000000  392.000000   392.000000    392.000000   \n",
       "mean     5.471939    194.411990  104.469388  2977.584184     15.541327   \n",
       "std      1.705783    104.644004   38.491160   849.402560      2.758864   \n",
       "min      3.000000     68.000000   46.000000  1613.000000      8.000000   \n",
       "25%      4.000000    105.000000   75.000000  2225.250000     13.775000   \n",
       "50%      4.000000    151.000000   93.500000  2803.500000     15.500000   \n",
       "75%      8.000000    275.750000  126.000000  3614.750000     17.025000   \n",
       "max      8.000000    455.000000  230.000000  5140.000000     24.800000   \n",
       "\n",
       "       model year      origin  \n",
       "count  392.000000  392.000000  \n",
       "mean    75.979592    1.576531  \n",
       "std      3.683737    0.805518  \n",
       "min     70.000000    1.000000  \n",
       "25%     73.000000    1.000000  \n",
       "50%     76.000000    1.000000  \n",
       "75%     79.000000    2.000000  \n",
       "max     82.000000    3.000000  "
      ]
     },
     "execution_count": 236,
     "metadata": {},
     "output_type": "execute_result"
    }
   ],
   "source": [
    "df.describe()"
   ]
  },
  {
   "cell_type": "code",
   "execution_count": 278,
   "metadata": {},
   "outputs": [
    {
     "data": {
      "image/png": "[encoded data removed]",
      "text/plain": [
       "<Figure size 432x288 with 9 Axes>"
      ]
     },
     "metadata": {
      "needs_background": "light"
     },
     "output_type": "display_data"
    },
    {
     "data": {
      "image/png": "[encoded data removed]",
      "text/plain": [
       "<Figure size 432x288 with 1 Axes>"
      ]
     },
     "metadata": {
      "needs_background": "light"
     },
     "output_type": "display_data"
    }
   ],
   "source": [
    "cdf=df[['cylinders','displacement','weight','acceleration','model year', 'horsepower','origin']]\n",
    "cdf.hist()\n",
    "cdf.plot()\n",
    "plt.show()"
   ]
  },
  {
   "cell_type": "code",
   "execution_count": 253,
   "metadata": {},
   "outputs": [
    {
     "data": {
      "image/png": "[encoded data removed]",
      "text/plain": [
       "<Figure size 432x288 with 1 Axes>"
      ]
     },
     "metadata": {
      "needs_background": "light"
     },
     "output_type": "display_data"
    }
   ],
   "source": [
    "plt.scatter(df['displacement'],df['horsepower'],color='blue')\n",
    "plt.xlabel('displacement')\n",
    "plt.ylabel('horsepower')\n",
    "plt.show()"
   ]
  },
  {
   "cell_type": "code",
   "execution_count": 254,
   "metadata": {},
   "outputs": [
    {
     "data": {
      "image/png": "[encoded data removed]",
      "text/plain": [
       "<Figure size 432x288 with 1 Axes>"
      ]
     },
     "metadata": {
      "needs_background": "light"
     },
     "output_type": "display_data"
    }
   ],
   "source": [
    "plt.scatter(df['weight'],df['horsepower'],color='red')\n",
    "plt.xlabel('weight')\n",
    "plt.ylabel('horsepower')\n",
    "plt.show()"
   ]
  },
  {
   "cell_type": "code",
   "execution_count": 255,
   "metadata": {},
   "outputs": [
    {
     "data": {
      "image/png": "[encoded data removed]",
      "text/plain": [
       "<Figure size 432x288 with 1 Axes>"
      ]
     },
     "metadata": {
      "needs_background": "light"
     },
     "output_type": "display_data"
    }
   ],
   "source": [
    "plt.scatter(df['acceleration'],df['horsepower'],color='blue')\n",
    "plt.xlabel('acceleration')\n",
    "plt.ylabel('horsepower')\n",
    "plt.show()"
   ]
  },
  {
   "cell_type": "code",
   "execution_count": 262,
   "metadata": {},
   "outputs": [],
   "source": [
    "#creating training and testing data set\n",
    "#from above scatter plots.. lets create a linear regression model between weight and horsepower, to train and predict the horsepower of unknown dataset\n",
    "\n",
    "msk = np.random.rand(len(df)) < 0.8\n",
    "train = cdf[msk]\n",
    "test = cdf[~msk]"
   ]
  },
  {
   "cell_type": "code",
   "execution_count": 264,
   "metadata": {},
   "outputs": [
    {
     "data": {
      "image/png": "[encoded data removed]",
      "text/plain": [
       "<Figure size 432x288 with 1 Axes>"
      ]
     },
     "metadata": {
      "needs_background": "light"
     },
     "output_type": "display_data"
    }
   ],
   "source": [
    "plt.scatter(train.weight, train.horsepower,  color='blue')\n",
    "plt.xlabel(\"Wight\")\n",
    "plt.ylabel(\"Horsepower\")\n",
    "plt.show()"
   ]
  },
  {
   "cell_type": "code",
   "execution_count": 265,
   "metadata": {},
   "outputs": [
    {
     "data": {
      "text/plain": [
       "LinearRegression()"
      ]
     },
     "execution_count": 265,
     "metadata": {},
     "output_type": "execute_result"
    }
   ],
   "source": [
    "regr=linear_model.LinearRegression()\n",
    "train_x=np.asanyarray(train[['weight']])\n",
    "train_y=np.asanyarray(train[['horsepower']])\n",
    "regr.fit(train_x,train_y)"
   ]
  },
  {
   "cell_type": "code",
   "execution_count": 267,
   "metadata": {},
   "outputs": [
    {
     "name": "stdout",
     "output_type": "stream",
     "text": [
      "Coefficients:  [[0.03830337]]\n",
      "Intecept: [-10.18104977]\n"
     ]
    }
   ],
   "source": [
    "#Coeff and Intercet\n",
    "print(\"Coefficients: \",regr.coef_)\n",
    "print(\"Intecept:\",regr.intercept_)"
   ]
  },
  {
   "cell_type": "code",
   "execution_count": 268,
   "metadata": {},
   "outputs": [
    {
     "data": {
      "text/plain": [
       "Text(0, 0.5, 'HorsePower')"
      ]
     },
     "execution_count": 268,
     "metadata": {},
     "output_type": "execute_result"
    },
    {
     "data": {
      "image/png": "[encoded data removed]",
      "text/plain": [
       "<Figure size 432x288 with 1 Axes>"
      ]
     },
     "metadata": {
      "needs_background": "light"
     },
     "output_type": "display_data"
    }
   ],
   "source": [
    "#Plot outputs with best fitline\n",
    "plt.scatter(train.weight, train.horsepower,  color='blue')\n",
    "plt.plot(train_x, regr.coef_[0][0]*train_x + regr.intercept_[0], '-r')\n",
    "plt.xlabel(\"Weight\")\n",
    "plt.ylabel(\"HorsePower\")"
   ]
  },
  {
   "cell_type": "code",
   "execution_count": 269,
   "metadata": {},
   "outputs": [
    {
     "name": "stdout",
     "output_type": "stream",
     "text": [
      "Residual sum of squares (MSE): 266.77\n",
      "R2-score: 0.84\n"
     ]
    }
   ],
   "source": [
    "#Evaluating metrices\n",
    "from sklearn.metrics import r2_score\n",
    "\n",
    "test_x = np.asanyarray(test[['weight']])\n",
    "test_y = np.asanyarray(test[['horsepower']])\n",
    "test_y_ = regr.predict(test_x)\n",
    "\n",
    "print(\"Residual sum of squares (MSE): %.2f\" % np.mean((test_y_ - test_y) ** 2))\n",
    "print(\"R2-score: %.2f\" % r2_score(test_y , test_y_) )"
   ]
  },
  {
   "cell_type": "code",
   "execution_count": 277,
   "metadata": {},
   "outputs": [
    {
     "data": {
      "text/plain": [
       "array([[ 68.18764419],\n",
       "       [ 99.94113749],\n",
       "       [ 60.10563323],\n",
       "       [101.09023858],\n",
       "       [ 78.68276743],\n",
       "       [106.06967661]])"
      ]
     },
     "execution_count": 277,
     "metadata": {},
     "output_type": "execute_result"
    }
   ],
   "source": [
    "#Using the liner model to prefict the missing values of horsepower\n",
    "df_test=pd.read_excel(\"auto-mpg-test.xlsx\")\n",
    "regr.predict(np.asanyarray(df_test[['weight']]))"
   ]
  },
  {
   "cell_type": "markdown",
   "metadata": {},
   "source": [
    "# Multi-variate Regression"
   ]
  },
  {
   "cell_type": "code",
   "execution_count": 354,
   "metadata": {},
   "outputs": [],
   "source": [
    "import numpy as np\n",
    "import matplotlib.pyplot as plt\n",
    "import pandas as pd\n",
    "import numpy as np\n",
    "from sklearn import preprocessing"
   ]
  },
  {
   "cell_type": "code",
   "execution_count": 355,
   "metadata": {},
   "outputs": [
    {
     "data": {
      "text/html": [
       "<div>\n",
       "<style scoped>\n",
       "    .dataframe tbody tr th:only-of-type {\n",
       "        vertical-align: middle;\n",
       "    }\n",
       "\n",
       "    .dataframe tbody tr th {\n",
       "        vertical-align: top;\n",
       "    }\n",
       "\n",
       "    .dataframe thead th {\n",
       "        text-align: right;\n",
       "    }\n",
       "</style>\n",
       "<table border=\"1\" class=\"dataframe\">\n",
       "  <thead>\n",
       "    <tr style=\"text-align: right;\">\n",
       "      <th></th>\n",
       "      <th>mpg</th>\n",
       "      <th>cylinders</th>\n",
       "      <th>displacement</th>\n",
       "      <th>horsepower</th>\n",
       "      <th>weight</th>\n",
       "      <th>acceleration</th>\n",
       "      <th>model year</th>\n",
       "      <th>origin</th>\n",
       "      <th>car name</th>\n",
       "    </tr>\n",
       "  </thead>\n",
       "  <tbody>\n",
       "    <tr>\n",
       "      <th>0</th>\n",
       "      <td>18</td>\n",
       "      <td>8</td>\n",
       "      <td>307.0</td>\n",
       "      <td>130</td>\n",
       "      <td>3504</td>\n",
       "      <td>12.0</td>\n",
       "      <td>70</td>\n",
       "      <td>1</td>\n",
       "      <td>chevrolet chevelle malibu</td>\n",
       "    </tr>\n",
       "    <tr>\n",
       "      <th>1</th>\n",
       "      <td>15</td>\n",
       "      <td>8</td>\n",
       "      <td>350.0</td>\n",
       "      <td>165</td>\n",
       "      <td>3693</td>\n",
       "      <td>11.5</td>\n",
       "      <td>70</td>\n",
       "      <td>1</td>\n",
       "      <td>buick skylark 320</td>\n",
       "    </tr>\n",
       "    <tr>\n",
       "      <th>2</th>\n",
       "      <td>18</td>\n",
       "      <td>8</td>\n",
       "      <td>318.0</td>\n",
       "      <td>150</td>\n",
       "      <td>3436</td>\n",
       "      <td>11.0</td>\n",
       "      <td>70</td>\n",
       "      <td>1</td>\n",
       "      <td>plymouth satellite</td>\n",
       "    </tr>\n",
       "    <tr>\n",
       "      <th>3</th>\n",
       "      <td>16</td>\n",
       "      <td>8</td>\n",
       "      <td>304.0</td>\n",
       "      <td>150</td>\n",
       "      <td>3433</td>\n",
       "      <td>12.0</td>\n",
       "      <td>70</td>\n",
       "      <td>1</td>\n",
       "      <td>amc rebel sst</td>\n",
       "    </tr>\n",
       "    <tr>\n",
       "      <th>4</th>\n",
       "      <td>17</td>\n",
       "      <td>8</td>\n",
       "      <td>302.0</td>\n",
       "      <td>140</td>\n",
       "      <td>3449</td>\n",
       "      <td>10.5</td>\n",
       "      <td>70</td>\n",
       "      <td>1</td>\n",
       "      <td>ford torino</td>\n",
       "    </tr>\n",
       "  </tbody>\n",
       "</table>\n",
       "</div>"
      ],
      "text/plain": [
       "  mpg  cylinders  displacement  horsepower  weight  acceleration  model year  \\\n",
       "0  18          8         307.0         130    3504          12.0          70   \n",
       "1  15          8         350.0         165    3693          11.5          70   \n",
       "2  18          8         318.0         150    3436          11.0          70   \n",
       "3  16          8         304.0         150    3433          12.0          70   \n",
       "4  17          8         302.0         140    3449          10.5          70   \n",
       "\n",
       "   origin                   car name  \n",
       "0       1  chevrolet chevelle malibu  \n",
       "1       1          buick skylark 320  \n",
       "2       1         plymouth satellite  \n",
       "3       1              amc rebel sst  \n",
       "4       1                ford torino  "
      ]
     },
     "execution_count": 355,
     "metadata": {},
     "output_type": "execute_result"
    }
   ],
   "source": [
    "data_set = pd.read_csv(\"auto-mpg.csv\")\n",
    "data_set.head()"
   ]
  },
  {
   "cell_type": "code",
   "execution_count": 356,
   "metadata": {},
   "outputs": [
    {
     "data": {
      "text/html": [
       "<div>\n",
       "<style scoped>\n",
       "    .dataframe tbody tr th:only-of-type {\n",
       "        vertical-align: middle;\n",
       "    }\n",
       "\n",
       "    .dataframe tbody tr th {\n",
       "        vertical-align: top;\n",
       "    }\n",
       "\n",
       "    .dataframe thead th {\n",
       "        text-align: right;\n",
       "    }\n",
       "</style>\n",
       "<table border=\"1\" class=\"dataframe\">\n",
       "  <thead>\n",
       "    <tr style=\"text-align: right;\">\n",
       "      <th></th>\n",
       "      <th>Bias_term</th>\n",
       "      <th>mpg</th>\n",
       "      <th>cylinders</th>\n",
       "      <th>displacement</th>\n",
       "      <th>horsepower</th>\n",
       "      <th>weight</th>\n",
       "      <th>acceleration</th>\n",
       "      <th>model year</th>\n",
       "      <th>origin</th>\n",
       "      <th>car name</th>\n",
       "    </tr>\n",
       "  </thead>\n",
       "  <tbody>\n",
       "    <tr>\n",
       "      <th>0</th>\n",
       "      <td>1</td>\n",
       "      <td>18</td>\n",
       "      <td>8</td>\n",
       "      <td>307.0</td>\n",
       "      <td>130</td>\n",
       "      <td>3504</td>\n",
       "      <td>12.0</td>\n",
       "      <td>70</td>\n",
       "      <td>1</td>\n",
       "      <td>chevrolet chevelle malibu</td>\n",
       "    </tr>\n",
       "    <tr>\n",
       "      <th>1</th>\n",
       "      <td>1</td>\n",
       "      <td>15</td>\n",
       "      <td>8</td>\n",
       "      <td>350.0</td>\n",
       "      <td>165</td>\n",
       "      <td>3693</td>\n",
       "      <td>11.5</td>\n",
       "      <td>70</td>\n",
       "      <td>1</td>\n",
       "      <td>buick skylark 320</td>\n",
       "    </tr>\n",
       "    <tr>\n",
       "      <th>2</th>\n",
       "      <td>1</td>\n",
       "      <td>18</td>\n",
       "      <td>8</td>\n",
       "      <td>318.0</td>\n",
       "      <td>150</td>\n",
       "      <td>3436</td>\n",
       "      <td>11.0</td>\n",
       "      <td>70</td>\n",
       "      <td>1</td>\n",
       "      <td>plymouth satellite</td>\n",
       "    </tr>\n",
       "    <tr>\n",
       "      <th>3</th>\n",
       "      <td>1</td>\n",
       "      <td>16</td>\n",
       "      <td>8</td>\n",
       "      <td>304.0</td>\n",
       "      <td>150</td>\n",
       "      <td>3433</td>\n",
       "      <td>12.0</td>\n",
       "      <td>70</td>\n",
       "      <td>1</td>\n",
       "      <td>amc rebel sst</td>\n",
       "    </tr>\n",
       "    <tr>\n",
       "      <th>4</th>\n",
       "      <td>1</td>\n",
       "      <td>17</td>\n",
       "      <td>8</td>\n",
       "      <td>302.0</td>\n",
       "      <td>140</td>\n",
       "      <td>3449</td>\n",
       "      <td>10.5</td>\n",
       "      <td>70</td>\n",
       "      <td>1</td>\n",
       "      <td>ford torino</td>\n",
       "    </tr>\n",
       "  </tbody>\n",
       "</table>\n",
       "</div>"
      ],
      "text/plain": [
       "   Bias_term mpg  cylinders  displacement  horsepower  weight  acceleration  \\\n",
       "0          1  18          8         307.0         130    3504          12.0   \n",
       "1          1  15          8         350.0         165    3693          11.5   \n",
       "2          1  18          8         318.0         150    3436          11.0   \n",
       "3          1  16          8         304.0         150    3433          12.0   \n",
       "4          1  17          8         302.0         140    3449          10.5   \n",
       "\n",
       "   model year  origin                   car name  \n",
       "0          70       1  chevrolet chevelle malibu  \n",
       "1          70       1          buick skylark 320  \n",
       "2          70       1         plymouth satellite  \n",
       "3          70       1              amc rebel sst  \n",
       "4          70       1                ford torino  "
      ]
     },
     "execution_count": 356,
     "metadata": {},
     "output_type": "execute_result"
    }
   ],
   "source": [
    "data_set = pd.concat([pd.Series(1, index=data_set.index, name='Bias_term'), data_set], axis=1)\n",
    "data_set.head()"
   ]
  },
  {
   "cell_type": "code",
   "execution_count": 357,
   "metadata": {},
   "outputs": [
    {
     "data": {
      "text/plain": [
       "Index(['Bias_term', 'mpg', 'cylinders', 'displacement', 'horsepower', 'weight',\n",
       "       'acceleration', 'model year', 'origin', 'car name'],\n",
       "      dtype='object')"
      ]
     },
     "execution_count": 357,
     "metadata": {},
     "output_type": "execute_result"
    }
   ],
   "source": [
    "data_set.columns"
   ]
  },
  {
   "cell_type": "code",
   "execution_count": 364,
   "metadata": {},
   "outputs": [
    {
     "name": "stdout",
     "output_type": "stream",
     "text": [
      "392\n"
     ]
    }
   ],
   "source": [
    "x = data_set[['Bias_term', 'cylinders', 'displacement', 'weight','acceleration', 'model year', 'origin']].values\n",
    "y = data_set['horsepower'].values.reshape(-1,1)\n",
    "m = len(y)\n",
    "print(m)"
   ]
  },
  {
   "cell_type": "code",
   "execution_count": 365,
   "metadata": {},
   "outputs": [
    {
     "data": {
      "text/plain": [
       "array([[  1. ,   8. , 307. , ...,  12. ,  70. ,   1. ],\n",
       "       [  1. ,   8. , 350. , ...,  11.5,  70. ,   1. ],\n",
       "       [  1. ,   8. , 318. , ...,  11. ,  70. ,   1. ],\n",
       "       ...,\n",
       "       [  1. ,   4. , 135. , ...,  11.6,  82. ,   1. ],\n",
       "       [  1. ,   4. , 120. , ...,  18.6,  82. ,   1. ],\n",
       "       [  1. ,   4. , 119. , ...,  19.4,  82. ,   1. ]])"
      ]
     },
     "execution_count": 365,
     "metadata": {},
     "output_type": "execute_result"
    }
   ],
   "source": [
    "x"
   ]
  },
  {
   "cell_type": "code",
   "execution_count": 366,
   "metadata": {},
   "outputs": [],
   "source": [
    "from sklearn.preprocessing import StandardScaler\n",
    "sc=StandardScaler()\n",
    "X_transform=sc.fit_transform(x)"
   ]
  },
  {
   "cell_type": "code",
   "execution_count": 367,
   "metadata": {},
   "outputs": [],
   "source": [
    "weight_vector=np.random.randn(x.shape[1])\n",
    "intercept=1000\n",
    "learning_rate = 0.0001"
   ]
  },
  {
   "cell_type": "code",
   "execution_count": 368,
   "metadata": {},
   "outputs": [],
   "source": [
    "def loss(y,y_predicted):\n",
    "    n=len(y)\n",
    "    s=0\n",
    "    for i in range(n):\n",
    "        s+=(y[i]-y_predicted[i])**2\n",
    "    return (1/n)*s"
   ]
  },
  {
   "cell_type": "code",
   "execution_count": 369,
   "metadata": {},
   "outputs": [],
   "source": [
    "def predicted_y(weight,x,intercept):\n",
    "    y_lst=[]\n",
    "    for i in range(len(x)):\n",
    "        y_lst.append(weight@x[i]+intercept) #dot product btween weight and input\n",
    "    return np.array(y_lst)"
   ]
  },
  {
   "cell_type": "code",
   "execution_count": 370,
   "metadata": {},
   "outputs": [],
   "source": [
    "def dldw(x,y,y_predicted):\n",
    "    s=0\n",
    "    n=len(y)\n",
    "    for i in range(n):\n",
    "        s+=-x[i]*(y[i]-y_predicted[i])\n",
    "    return (2/n)*s"
   ]
  },
  {
   "cell_type": "code",
   "execution_count": 371,
   "metadata": {},
   "outputs": [],
   "source": [
    "def dldb(y,y_predicted):\n",
    "    n=len(y)\n",
    "    s=0\n",
    "    for i in range(len(y)):\n",
    "        s+=-(y[i]-y_predicted[i])\n",
    "    return (2/n) * s"
   ]
  },
  {
   "cell_type": "code",
   "execution_count": 372,
   "metadata": {},
   "outputs": [],
   "source": [
    "def gradient_descent(x,y):\n",
    "    weight_vector=np.random.randn(x.shape[1])\n",
    "    intercept=0\n",
    "    epoch = 2000\n",
    "    n = len(x)\n",
    "    linear_loss=[]\n",
    "    learning_rate = 0.001\n",
    "\n",
    "    for i in range(epoch):\n",
    "        \n",
    "        \n",
    "        y_predicted = predicted_y(weight_vector,x,intercept)\n",
    "        \n",
    "        weight_vector = weight_vector - learning_rate *dldw(x,y,y_predicted) \n",
    "        \n",
    "        \n",
    "        intercept = intercept - learning_rate * dldb(y,y_predicted)\n",
    "        linear_loss.append(loss(y,y_predicted))\n",
    "        \n",
    "    plt.plot(np.arange(1,epoch),linear_loss[1:])\n",
    "    plt.xlabel(\"number of epoch\")\n",
    "    plt.ylabel(\"loss\")\n",
    "    \n",
    "    return weight_vector,intercept"
   ]
  },
  {
   "cell_type": "code",
   "execution_count": 373,
   "metadata": {},
   "outputs": [
    {
     "data": {
      "image/png": "[encoded data removed]",
      "text/plain": [
       "<Figure size 432x288 with 1 Axes>"
      ]
     },
     "metadata": {
      "needs_background": "light"
     },
     "output_type": "display_data"
    }
   ],
   "source": [
    "w,b=gradient_descent(X_transform,y)"
   ]
  },
  {
   "cell_type": "code",
   "execution_count": 374,
   "metadata": {},
   "outputs": [
    {
     "name": "stdout",
     "output_type": "stream",
     "text": [
      "weight: [ -0.9672942    5.3312184   11.17258911  12.75532318 -11.80682126\n",
      "  -3.25027546   2.45463669]\n",
      "bias: [102.56361276]\n"
     ]
    }
   ],
   "source": [
    "print(\"weight:\",w)\n",
    "print(\"bias:\",b)"
   ]
  },
  {
   "cell_type": "code",
   "execution_count": 375,
   "metadata": {},
   "outputs": [],
   "source": [
    "def predict(inp):\n",
    "    y_lst=[]\n",
    "    for i in range(len(inp)):\n",
    "        y_lst.append(w@inp[i]+b)\n",
    "    return np.array(y_lst)"
   ]
  },
  {
   "cell_type": "code",
   "execution_count": 376,
   "metadata": {},
   "outputs": [
    {
     "data": {
      "text/plain": [
       "array([[149.12460525],\n",
       "       [158.7058168 ],\n",
       "       [153.56316537],\n",
       "       [147.73633654],\n",
       "       [154.19070087],\n",
       "       [183.32216592],\n",
       "       [190.47529932],\n",
       "       [190.48966245],\n",
       "       [187.36469575],\n",
       "       [178.19782444],\n",
       "       [166.70656547],\n",
       "       [171.37147635],\n",
       "       [173.64359595],\n",
       "       [167.23148068],\n",
       "       [ 92.09411786],\n",
       "       [106.12643292],\n",
       "       [105.34621248],\n",
       "       [100.49885088],\n",
       "       [ 88.88747126],\n",
       "       [ 55.69029279],\n",
       "       [ 82.52037687],\n",
       "       [ 91.41614332],\n",
       "       [ 77.41325815],\n",
       "       [ 98.53587071],\n",
       "       [105.59420753],\n",
       "       [162.92539637],\n",
       "       [149.38081188],\n",
       "       [157.0745687 ],\n",
       "       [139.41519401],\n",
       "       [ 88.00401254],\n",
       "       [ 84.22830563],\n",
       "       [ 93.33053815],\n",
       "       [116.59820654],\n",
       "       [117.2412044 ],\n",
       "       [118.25984458],\n",
       "       [117.85387236],\n",
       "       [115.71909545],\n",
       "       [163.43840625],\n",
       "       [174.76032265],\n",
       "       [156.29073355],\n",
       "       [154.03334372],\n",
       "       [180.32563396],\n",
       "       [176.85794488],\n",
       "       [182.78213214],\n",
       "       [122.16699029],\n",
       "       [ 71.39576614],\n",
       "       [119.69568429],\n",
       "       [119.68806721],\n",
       "       [ 88.07004477],\n",
       "       [ 89.02129856],\n",
       "       [ 60.76123146],\n",
       "       [ 83.01336475],\n",
       "       [ 60.57386357],\n",
       "       [ 62.56007049],\n",
       "       [ 61.21939436],\n",
       "       [ 52.91855995],\n",
       "       [ 86.77128355],\n",
       "       [ 70.29885961],\n",
       "       [ 47.36827023],\n",
       "       [ 68.36977532],\n",
       "       [ 76.56414161],\n",
       "       [163.53228807],\n",
       "       [170.54648718],\n",
       "       [151.59375722],\n",
       "       [157.17390672],\n",
       "       [151.70555717],\n",
       "       [181.6606987 ],\n",
       "       [160.53290166],\n",
       "       [159.84124528],\n",
       "       [168.96028739],\n",
       "       [ 88.39703782],\n",
       "       [150.72841479],\n",
       "       [147.71894834],\n",
       "       [141.56135735],\n",
       "       [148.57913665],\n",
       "       [ 98.70899466],\n",
       "       [ 77.36607449],\n",
       "       [ 77.86842602],\n",
       "       [ 69.85187873],\n",
       "       [ 81.24775911],\n",
       "       [ 78.78358264],\n",
       "       [ 95.23288594],\n",
       "       [ 79.49380834],\n",
       "       [ 78.09934518],\n",
       "       [155.74749972],\n",
       "       [150.82209845],\n",
       "       [154.06346679],\n",
       "       [143.31642084],\n",
       "       [149.61247174],\n",
       "       [183.43119452],\n",
       "       [170.85087311],\n",
       "       [159.80887393],\n",
       "       [147.95890715],\n",
       "       [183.4868573 ],\n",
       "       [188.33819575],\n",
       "       [161.19162224],\n",
       "       [106.40777213],\n",
       "       [105.01343023],\n",
       "       [106.65229508],\n",
       "       [107.5767724 ],\n",
       "       [102.40108125],\n",
       "       [ 52.62652549],\n",
       "       [170.29493713],\n",
       "       [175.35425667],\n",
       "       [165.14648873],\n",
       "       [163.88939911],\n",
       "       [108.59174199],\n",
       "       [ 69.19467146],\n",
       "       [ 67.38106454],\n",
       "       [ 82.58687725],\n",
       "       [ 84.4161614 ],\n",
       "       [ 68.3735792 ],\n",
       "       [ 99.87878018],\n",
       "       [ 81.03762521],\n",
       "       [155.47685157],\n",
       "       [178.76683606],\n",
       "       [ 54.70591582],\n",
       "       [ 81.35304512],\n",
       "       [ 93.94210083],\n",
       "       [ 92.56313121],\n",
       "       [150.35645691],\n",
       "       [ 95.86323778],\n",
       "       [113.2676208 ],\n",
       "       [157.7619285 ],\n",
       "       [102.35222007],\n",
       "       [105.107252  ],\n",
       "       [109.28712419],\n",
       "       [ 61.44009323],\n",
       "       [ 78.18032603],\n",
       "       [ 50.30062754],\n",
       "       [ 79.33034348],\n",
       "       [115.97814787],\n",
       "       [110.30795079],\n",
       "       [112.92202948],\n",
       "       [146.06405903],\n",
       "       [157.44301366],\n",
       "       [154.66843445],\n",
       "       [144.96682675],\n",
       "       [141.59444779],\n",
       "       [ 75.17744592],\n",
       "       [ 73.58211516],\n",
       "       [ 84.85858693],\n",
       "       [ 67.30620309],\n",
       "       [ 62.66461784],\n",
       "       [ 78.42778633],\n",
       "       [ 76.93828084],\n",
       "       [ 88.22035142],\n",
       "       [ 91.06782426],\n",
       "       [ 86.16891483],\n",
       "       [ 71.99591537],\n",
       "       [108.93353597],\n",
       "       [114.53815868],\n",
       "       [ 92.70686548],\n",
       "       [ 95.01459551],\n",
       "       [174.29383346],\n",
       "       [154.80776089],\n",
       "       [150.11638787],\n",
       "       [160.32001083],\n",
       "       [ 97.81779258],\n",
       "       [110.41126982],\n",
       "       [106.61295669],\n",
       "       [103.9121037 ],\n",
       "       [110.47692257],\n",
       "       [129.21384305],\n",
       "       [139.13572867],\n",
       "       [ 78.65905771],\n",
       "       [ 79.90537756],\n",
       "       [104.41926139],\n",
       "       [ 72.77108888],\n",
       "       [101.31128821],\n",
       "       [ 73.49889888],\n",
       "       [ 82.34934957],\n",
       "       [105.37823158],\n",
       "       [ 79.911261  ],\n",
       "       [104.59989165],\n",
       "       [ 89.68105616],\n",
       "       [ 85.59991817],\n",
       "       [ 96.2390506 ],\n",
       "       [ 96.40424853],\n",
       "       [ 65.93649805],\n",
       "       [ 82.34155109],\n",
       "       [ 73.6358116 ],\n",
       "       [ 87.0131411 ],\n",
       "       [ 65.75857689],\n",
       "       [ 78.6177055 ],\n",
       "       [150.01558253],\n",
       "       [151.0294349 ],\n",
       "       [142.24801062],\n",
       "       [155.79018139],\n",
       "       [110.15499952],\n",
       "       [118.48847938],\n",
       "       [ 94.73229936],\n",
       "       [ 99.25085737],\n",
       "       [ 41.77811362],\n",
       "       [ 45.53601768],\n",
       "       [ 78.17078945],\n",
       "       [ 65.48154575],\n",
       "       [106.58440332],\n",
       "       [ 93.95851994],\n",
       "       [115.59438466],\n",
       "       [102.79723857],\n",
       "       [ 85.80521322],\n",
       "       [ 69.48616877],\n",
       "       [ 75.82099718],\n",
       "       [ 92.47847249],\n",
       "       [ 94.25803294],\n",
       "       [146.41341999],\n",
       "       [ 68.42591548],\n",
       "       [103.89654527],\n",
       "       [110.36819327],\n",
       "       [161.16376365],\n",
       "       [156.70556738],\n",
       "       [135.93731916],\n",
       "       [140.20370711],\n",
       "       [ 64.39184679],\n",
       "       [ 77.18795608],\n",
       "       [ 55.57307086],\n",
       "       [ 77.54457682],\n",
       "       [ 68.78310252],\n",
       "       [146.23759314],\n",
       "       [116.28047539],\n",
       "       [146.39463083],\n",
       "       [141.87267037],\n",
       "       [111.97441207],\n",
       "       [106.37228235],\n",
       "       [105.38518843],\n",
       "       [100.90842521],\n",
       "       [167.50481   ],\n",
       "       [160.04710809],\n",
       "       [164.37002025],\n",
       "       [149.42643453],\n",
       "       [ 76.7952478 ],\n",
       "       [ 85.11810564],\n",
       "       [ 68.87838382],\n",
       "       [ 85.02471412],\n",
       "       [ 64.80731742],\n",
       "       [ 69.88175223],\n",
       "       [ 72.38141706],\n",
       "       [ 82.26827555],\n",
       "       [104.49996936],\n",
       "       [ 96.56931944],\n",
       "       [ 90.91282789],\n",
       "       [ 45.84463178],\n",
       "       [ 71.29098753],\n",
       "       [ 56.61158892],\n",
       "       [ 62.06602928],\n",
       "       [ 68.07487254],\n",
       "       [119.94471561],\n",
       "       [141.56412086],\n",
       "       [139.08674047],\n",
       "       [ 97.2871369 ],\n",
       "       [ 92.54449259],\n",
       "       [ 99.97180509],\n",
       "       [ 85.32902079],\n",
       "       [103.63706016],\n",
       "       [101.07746664],\n",
       "       [109.52577388],\n",
       "       [ 97.69402818],\n",
       "       [100.06630543],\n",
       "       [115.86280825],\n",
       "       [135.51320573],\n",
       "       [120.78726848],\n",
       "       [140.45470017],\n",
       "       [144.60901161],\n",
       "       [ 67.63013566],\n",
       "       [ 93.52625394],\n",
       "       [ 85.87079904],\n",
       "       [ 78.07629298],\n",
       "       [ 90.27859505],\n",
       "       [ 81.84480224],\n",
       "       [ 79.10768516],\n",
       "       [ 86.59256707],\n",
       "       [ 90.05885672],\n",
       "       [111.12596899],\n",
       "       [ 86.19119617],\n",
       "       [105.75855   ],\n",
       "       [ 74.09433147],\n",
       "       [ 73.00325078],\n",
       "       [108.32647972],\n",
       "       [ 89.18009251],\n",
       "       [ 78.8600615 ],\n",
       "       [ 96.73592418],\n",
       "       [104.27211937],\n",
       "       [131.44254921],\n",
       "       [137.96282452],\n",
       "       [147.51641741],\n",
       "       [133.53895454],\n",
       "       [146.21448758],\n",
       "       [144.29141161],\n",
       "       [125.56075928],\n",
       "       [149.11002652],\n",
       "       [ 76.09008998],\n",
       "       [ 74.43027209],\n",
       "       [ 72.13666976],\n",
       "       [ 83.3766105 ],\n",
       "       [ 87.26234445],\n",
       "       [128.58526329],\n",
       "       [ 54.39095742],\n",
       "       [ 91.17830723],\n",
       "       [ 82.31233746],\n",
       "       [ 74.27592792],\n",
       "       [ 57.85973163],\n",
       "       [ 76.38673483],\n",
       "       [ 82.29866762],\n",
       "       [109.921403  ],\n",
       "       [104.64408116],\n",
       "       [ 92.58274242],\n",
       "       [ 76.46210853],\n",
       "       [ 58.33604234],\n",
       "       [ 69.62202213],\n",
       "       [ 69.0663207 ],\n",
       "       [ 79.39296487],\n",
       "       [ 74.24783126],\n",
       "       [ 68.85343645],\n",
       "       [ 94.70578202],\n",
       "       [ 72.30321824],\n",
       "       [ 88.4591903 ],\n",
       "       [ 75.8513199 ],\n",
       "       [ 84.83318745],\n",
       "       [ 80.25914473],\n",
       "       [ 64.00700116],\n",
       "       [ 90.76051291],\n",
       "       [ 58.32951366],\n",
       "       [ 44.72430233],\n",
       "       [ 39.91317601],\n",
       "       [ 71.88696305],\n",
       "       [ 67.799372  ],\n",
       "       [ 78.20092243],\n",
       "       [ 65.28069951],\n",
       "       [ 68.43316715],\n",
       "       [118.91360196],\n",
       "       [ 86.96767301],\n",
       "       [ 82.66659885],\n",
       "       [ 72.81502534],\n",
       "       [ 77.40032325],\n",
       "       [ 78.29146421],\n",
       "       [ 87.1705727 ],\n",
       "       [104.53858319],\n",
       "       [ 87.81972213],\n",
       "       [ 61.32249539],\n",
       "       [ 59.91533508],\n",
       "       [ 65.03953488],\n",
       "       [ 64.05137297],\n",
       "       [ 54.55918098],\n",
       "       [ 65.11313259],\n",
       "       [ 69.92018359],\n",
       "       [ 73.48635102],\n",
       "       [ 64.61131785],\n",
       "       [ 50.36559174],\n",
       "       [ 79.1611666 ],\n",
       "       [ 81.86985287],\n",
       "       [ 73.797644  ],\n",
       "       [ 87.52825907],\n",
       "       [ 72.93815859],\n",
       "       [ 72.07976277],\n",
       "       [ 81.14165504],\n",
       "       [112.73770612],\n",
       "       [105.69482037],\n",
       "       [107.40165801],\n",
       "       [117.33094169],\n",
       "       [ 93.17926626],\n",
       "       [104.0839828 ],\n",
       "       [ 59.07546211],\n",
       "       [ 63.8867866 ],\n",
       "       [ 62.77400309],\n",
       "       [ 73.19360013],\n",
       "       [ 75.75760556],\n",
       "       [ 72.05550361],\n",
       "       [ 79.69034291],\n",
       "       [ 70.40657553],\n",
       "       [ 60.21102398],\n",
       "       [ 61.95508204],\n",
       "       [ 72.10666439],\n",
       "       [ 60.21716918],\n",
       "       [ 81.19583989],\n",
       "       [ 80.48270769],\n",
       "       [ 70.906898  ],\n",
       "       [ 73.02106891],\n",
       "       [ 70.02152397],\n",
       "       [ 68.33007212],\n",
       "       [ 91.53503469],\n",
       "       [ 98.67574431],\n",
       "       [ 85.33234727],\n",
       "       [102.61778916],\n",
       "       [ 93.92575963],\n",
       "       [ 86.28221687],\n",
       "       [ 78.28779032],\n",
       "       [ 81.99069365],\n",
       "       [ 31.9556474 ],\n",
       "       [ 91.15360612],\n",
       "       [ 64.51647882],\n",
       "       [ 62.40994421]])"
      ]
     },
     "execution_count": 376,
     "metadata": {},
     "output_type": "execute_result"
    }
   ],
   "source": [
    "y_pred=predict(X_transform)\n",
    "y_pred"
   ]
  },
  {
   "cell_type": "markdown",
   "metadata": {},
   "source": [
    "# Machine Learning KNN"
   ]
  },
  {
   "cell_type": "code",
   "execution_count": 398,
   "metadata": {},
   "outputs": [],
   "source": [
    "import numpy as np\n",
    "import matplotlib.pyplot as plt\n",
    "import pandas as pd\n",
    "import numpy as np\n",
    "from sklearn import preprocessing\n",
    "from sklearn.neighbors import KNeighborsClassifier"
   ]
  },
  {
   "cell_type": "code",
   "execution_count": 399,
   "metadata": {},
   "outputs": [
    {
     "data": {
      "text/html": [
       "<div>\n",
       "<style scoped>\n",
       "    .dataframe tbody tr th:only-of-type {\n",
       "        vertical-align: middle;\n",
       "    }\n",
       "\n",
       "    .dataframe tbody tr th {\n",
       "        vertical-align: top;\n",
       "    }\n",
       "\n",
       "    .dataframe thead th {\n",
       "        text-align: right;\n",
       "    }\n",
       "</style>\n",
       "<table border=\"1\" class=\"dataframe\">\n",
       "  <thead>\n",
       "    <tr style=\"text-align: right;\">\n",
       "      <th></th>\n",
       "      <th>Age</th>\n",
       "      <th>year of operation</th>\n",
       "      <th>positive axillary nodes</th>\n",
       "      <th>Survival status</th>\n",
       "    </tr>\n",
       "  </thead>\n",
       "  <tbody>\n",
       "    <tr>\n",
       "      <th>0</th>\n",
       "      <td>30</td>\n",
       "      <td>64</td>\n",
       "      <td>1</td>\n",
       "      <td>1</td>\n",
       "    </tr>\n",
       "    <tr>\n",
       "      <th>1</th>\n",
       "      <td>30</td>\n",
       "      <td>62</td>\n",
       "      <td>3</td>\n",
       "      <td>1</td>\n",
       "    </tr>\n",
       "    <tr>\n",
       "      <th>2</th>\n",
       "      <td>30</td>\n",
       "      <td>65</td>\n",
       "      <td>0</td>\n",
       "      <td>1</td>\n",
       "    </tr>\n",
       "    <tr>\n",
       "      <th>3</th>\n",
       "      <td>31</td>\n",
       "      <td>59</td>\n",
       "      <td>2</td>\n",
       "      <td>1</td>\n",
       "    </tr>\n",
       "    <tr>\n",
       "      <th>4</th>\n",
       "      <td>31</td>\n",
       "      <td>65</td>\n",
       "      <td>4</td>\n",
       "      <td>1</td>\n",
       "    </tr>\n",
       "  </tbody>\n",
       "</table>\n",
       "</div>"
      ],
      "text/plain": [
       "   Age  year of operation  positive axillary nodes  Survival status\n",
       "0   30                 64                        1                1\n",
       "1   30                 62                        3                1\n",
       "2   30                 65                        0                1\n",
       "3   31                 59                        2                1\n",
       "4   31                 65                        4                1"
      ]
     },
     "execution_count": 399,
     "metadata": {},
     "output_type": "execute_result"
    }
   ],
   "source": [
    "df = pd.read_excel(\"KNN_Dataset.xlsx\")\n",
    "df.head()"
   ]
  },
  {
   "cell_type": "code",
   "execution_count": 400,
   "metadata": {},
   "outputs": [
    {
     "data": {
      "text/plain": [
       "1    225\n",
       "2     81\n",
       "Name: Survival status, dtype: int64"
      ]
     },
     "execution_count": 400,
     "metadata": {},
     "output_type": "execute_result"
    }
   ],
   "source": [
    "df['Survival status'].value_counts()"
   ]
  },
  {
   "cell_type": "code",
   "execution_count": 401,
   "metadata": {},
   "outputs": [
    {
     "data": {
      "text/plain": [
       "<matplotlib.axes._subplots.AxesSubplot at 0x21650c04460>"
      ]
     },
     "execution_count": 401,
     "metadata": {},
     "output_type": "execute_result"
    },
    {
     "data": {
      "image/png": "[encoded data removed]",
      "text/plain": [
       "<Figure size 432x288 with 4 Axes>"
      ]
     },
     "metadata": {
      "needs_background": "light"
     },
     "output_type": "display_data"
    },
    {
     "data": {
      "image/png": "[encoded data removed]",
      "text/plain": [
       "<Figure size 432x288 with 1 Axes>"
      ]
     },
     "metadata": {
      "needs_background": "light"
     },
     "output_type": "display_data"
    }
   ],
   "source": [
    "viz = df[['Age', 'year of operation', 'positive axillary nodes', 'Survival status']]\n",
    "viz.hist()\n",
    "viz.plot()"
   ]
  },
  {
   "cell_type": "code",
   "execution_count": 402,
   "metadata": {},
   "outputs": [
    {
     "data": {
      "text/plain": [
       "Index(['Age', 'year of operation', 'positive axillary nodes',\n",
       "       'Survival status'],\n",
       "      dtype='object')"
      ]
     },
     "execution_count": 402,
     "metadata": {},
     "output_type": "execute_result"
    }
   ],
   "source": [
    "df.columns"
   ]
  },
  {
   "cell_type": "code",
   "execution_count": 403,
   "metadata": {},
   "outputs": [
    {
     "data": {
      "text/plain": [
       "array([[30, 64,  1],\n",
       "       [30, 62,  3],\n",
       "       [30, 65,  0],\n",
       "       [31, 59,  2],\n",
       "       [31, 65,  4]], dtype=int64)"
      ]
     },
     "execution_count": 403,
     "metadata": {},
     "output_type": "execute_result"
    }
   ],
   "source": [
    "X = df[['Age', 'year of operation', 'positive axillary nodes',]] .values  \n",
    "X[0:5]\n"
   ]
  },
  {
   "cell_type": "code",
   "execution_count": 404,
   "metadata": {},
   "outputs": [
    {
     "data": {
      "text/plain": [
       "array([1, 1, 1, 1, 1], dtype=int64)"
      ]
     },
     "execution_count": 404,
     "metadata": {},
     "output_type": "execute_result"
    }
   ],
   "source": [
    "y = df['Survival status'].values\n",
    "y[0:5]"
   ]
  },
  {
   "cell_type": "code",
   "execution_count": 405,
   "metadata": {},
   "outputs": [
    {
     "data": {
      "text/plain": [
       "array([[-2.08214014,  0.35358406, -0.42159203],\n",
       "       [-2.08214014, -0.26292148, -0.14295885],\n",
       "       [-2.08214014,  0.66183684, -0.56090862],\n",
       "       [-1.98942552, -1.18767981, -0.28227544],\n",
       "       [-1.98942552,  0.66183684, -0.00364226]])"
      ]
     },
     "execution_count": 405,
     "metadata": {},
     "output_type": "execute_result"
    }
   ],
   "source": [
    "X = preprocessing.StandardScaler().fit(X).transform(X.astype(float))\n",
    "X[0:5]"
   ]
  },
  {
   "cell_type": "code",
   "execution_count": 406,
   "metadata": {},
   "outputs": [
    {
     "name": "stdout",
     "output_type": "stream",
     "text": [
      "Train set: (244, 3) (244,)\n",
      "Test set: (62, 3) (62,)\n"
     ]
    }
   ],
   "source": [
    "from sklearn.model_selection import train_test_split\n",
    "X_train, X_test, y_train, y_test = train_test_split( X, y, test_size=0.2, random_state=4)\n",
    "print ('Train set:', X_train.shape,  y_train.shape)\n",
    "print ('Test set:', X_test.shape,  y_test.shape)"
   ]
  },
  {
   "cell_type": "code",
   "execution_count": 407,
   "metadata": {},
   "outputs": [
    {
     "data": {
      "text/plain": [
       "KNeighborsClassifier(n_neighbors=4)"
      ]
     },
     "execution_count": 407,
     "metadata": {},
     "output_type": "execute_result"
    }
   ],
   "source": [
    "k = 4 \n",
    "neigh = KNeighborsClassifier(n_neighbors = k).fit(X_train,y_train)\n",
    "neigh"
   ]
  },
  {
   "cell_type": "code",
   "execution_count": 408,
   "metadata": {},
   "outputs": [
    {
     "data": {
      "text/plain": [
       "array([1, 1, 1, 1, 1], dtype=int64)"
      ]
     },
     "execution_count": 408,
     "metadata": {},
     "output_type": "execute_result"
    }
   ],
   "source": [
    "yhat = neigh.predict(X_test)\n",
    "yhat[0:5]"
   ]
  },
  {
   "cell_type": "code",
   "execution_count": 409,
   "metadata": {},
   "outputs": [
    {
     "name": "stdout",
     "output_type": "stream",
     "text": [
      "Train set Accuracy:  0.7663934426229508\n",
      "Test set Accuracy:  0.7580645161290323\n"
     ]
    }
   ],
   "source": [
    "from sklearn import metrics\n",
    "print(\"Train set Accuracy: \", metrics.accuracy_score(y_train, neigh.predict(X_train)))\n",
    "print(\"Test set Accuracy: \", metrics.accuracy_score(y_test, yhat))"
   ]
  },
  {
   "cell_type": "code",
   "execution_count": 413,
   "metadata": {},
   "outputs": [
    {
     "data": {
      "text/plain": [
       "array([0.72580645, 0.75806452, 0.75806452, 0.75806452, 0.75806452,\n",
       "       0.77419355, 0.77419355, 0.75806452, 0.75806452])"
      ]
     },
     "execution_count": 413,
     "metadata": {},
     "output_type": "execute_result"
    }
   ],
   "source": [
    "#Choose K \n",
    "\n",
    "Ks = 10\n",
    "mean_acc = np.zeros((Ks-1))\n",
    "std_acc = np.zeros((Ks-1))\n",
    "\n",
    "for n in range(1,Ks):\n",
    "    neigh = KNeighborsClassifier(n_neighbors = n).fit(X_train,y_train)\n",
    "    yhat=neigh.predict(X_test)\n",
    "    mean_acc[n-1] = metrics.accuracy_score(y_test, yhat)\n",
    "\n",
    "    \n",
    "    std_acc[n-1]=np.std(yhat==y_test)/np.sqrt(yhat.shape[0])\n",
    "\n",
    "mean_acc"
   ]
  },
  {
   "cell_type": "code",
   "execution_count": 412,
   "metadata": {},
   "outputs": [
    {
     "data": {
      "text/plain": [
       "array([0.05665564, 0.05438849, 0.05438849, 0.05438849, 0.05438849,\n",
       "       0.05310032, 0.05310032, 0.05438849, 0.05438849])"
      ]
     },
     "execution_count": 412,
     "metadata": {},
     "output_type": "execute_result"
    }
   ],
   "source": [
    "std_acc"
   ]
  },
  {
   "cell_type": "code",
   "execution_count": 414,
   "metadata": {},
   "outputs": [
    {
     "data": {
      "image/png": "[encoded data removed]",
      "text/plain": [
       "<Figure size 432x288 with 1 Axes>"
      ]
     },
     "metadata": {
      "needs_background": "light"
     },
     "output_type": "display_data"
    }
   ],
   "source": [
    "plt.plot(range(1,Ks),mean_acc,'g')\n",
    "plt.fill_between(range(1,Ks),mean_acc - 1 * std_acc,mean_acc + 1 * std_acc, alpha=0.10)\n",
    "plt.fill_between(range(1,Ks),mean_acc - 3 * std_acc,mean_acc + 3 * std_acc, alpha=0.10,color=\"green\")\n",
    "plt.legend(('Accuracy ', '+/- 1xstd','+/- 3xstd'))\n",
    "plt.ylabel('Accuracy ')\n",
    "plt.xlabel('Number of Neighbors (K)')\n",
    "plt.tight_layout()\n",
    "plt.show()"
   ]
  },
  {
   "cell_type": "code",
   "execution_count": null,
   "metadata": {},
   "outputs": [],
   "source": []
  }
 ],
 "metadata": {
  "kernelspec": {
   "display_name": "Python 3",
   "language": "python",
   "name": "python3"
  },
  "language_info": {
   "codemirror_mode": {
    "name": "ipython",
    "version": 3
   },
   "file_extension": ".py",
   "mimetype": "text/x-python",
   "name": "python",
   "nbconvert_exporter": "python",
   "pygments_lexer": "ipython3",
   "version": "3.8.3"
  }
 },
 "nbformat": 4,
 "nbformat_minor": 4
}
